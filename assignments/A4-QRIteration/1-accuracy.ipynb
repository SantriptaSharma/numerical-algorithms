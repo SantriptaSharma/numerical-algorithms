{
 "cells": [
  {
   "cell_type": "code",
   "execution_count": 55,
   "metadata": {},
   "outputs": [
    {
     "name": "stdout",
     "output_type": "stream",
     "text": [
      "The autoreload extension is already loaded. To reload it, use:\n",
      "  %reload_ext autoreload\n"
     ]
    }
   ],
   "source": [
    "%load_ext autoreload\n",
    "%autoreload 2\n",
    "\n",
    "import numpy as np\n",
    "\n",
    "np.set_printoptions(precision=3)\n",
    "np.random.seed(317042)"
   ]
  },
  {
   "cell_type": "code",
   "execution_count": 56,
   "metadata": {},
   "outputs": [],
   "source": [
    "# error reporting function\n",
    "def create_error_dict(**kwargs):\n",
    "\terror_dict = {}\n",
    "\t\n",
    "\tfor err_name, errs in kwargs.items():\n",
    "\t\tmean = np.mean(errs)\n",
    "\t\tmax = np.max(errs)\n",
    "\n",
    "\t\terror_dict[f\"{err_name}_mean\"] = mean\n",
    "\t\terror_dict[f\"{err_name}_max\"] = max\n",
    "\n",
    "\treturn error_dict"
   ]
  },
  {
   "cell_type": "markdown",
   "metadata": {},
   "source": [
    "### Stability (and correctness) of Hessenberg-ification"
   ]
  },
  {
   "cell_type": "code",
   "execution_count": 57,
   "metadata": {},
   "outputs": [],
   "source": [
    "from scipy.linalg import hessenberg\n",
    "from utils import get_random_symmetric_matrix, make_upper_hessenberg\n",
    "\n",
    "def test_hessenberg(test_count = 100, size = 5, a = 0.0, b = 1.0):\n",
    "\tAs = []\n",
    "\terrors = []\n",
    "\n",
    "\tfor t in range(test_count):\n",
    "\t\tA = get_random_symmetric_matrix(size, a, b)\n",
    "\t\tAs.append(A)\n",
    "\n",
    "\t\tHp, _ = make_upper_hessenberg(A)\n",
    "\t\tH = hessenberg(A)\n",
    "\n",
    "\t\terrors.append(np.abs(Hp - H))\n",
    "\n",
    "\treturn As, errors"
   ]
  },
  {
   "cell_type": "code",
   "execution_count": 58,
   "metadata": {},
   "outputs": [
    {
     "data": {
      "text/plain": [
       "{'mae_mean': np.float64(2.7518716752176167e-15),\n",
       " 'mae_max': np.float64(5.764001498320681e-10)}"
      ]
     },
     "execution_count": 58,
     "metadata": {},
     "output_type": "execute_result"
    }
   ],
   "source": [
    "As, errs = test_hessenberg(100, 200)\n",
    "create_error_dict(mae=errs)"
   ]
  },
  {
   "cell_type": "markdown",
   "metadata": {},
   "source": [
    "### Correctness of Hessenberg QR"
   ]
  },
  {
   "cell_type": "code",
   "execution_count": 59,
   "metadata": {},
   "outputs": [],
   "source": [
    "from utils import hessenberg_qr\n",
    "\n",
    "def test_hessenberg_qr(test_count = 100, size = 5, a = 0.0, b = 1.0):\n",
    "\tAs = []\n",
    "\trecon_errors = []\n",
    "\tq_errors = []\n",
    "\tr_errors = []\n",
    "\n",
    "\tfor t in range(test_count):\n",
    "\t\tA = get_random_symmetric_matrix(size, a, b)\n",
    "\t\tAs.append(A)\n",
    "\n",
    "\t\tH, _ = make_upper_hessenberg(A)\n",
    "\t\tQp, Rp = hessenberg_qr(H)\n",
    "\t\tQ, R = np.linalg.qr(H)\n",
    "\n",
    "\t\trecon_errors.append(np.abs(Qp @ Rp - H))\n",
    "\t\tq_errors.append(np.abs(Q - Qp))\n",
    "\t\tr_errors.append(np.abs(R - Rp))\n",
    "\n",
    "\treturn As, recon_errors, q_errors, r_errors\n"
   ]
  },
  {
   "cell_type": "code",
   "execution_count": 60,
   "metadata": {},
   "outputs": [
    {
     "data": {
      "text/plain": [
       "{'reconstruction_mean': np.float64(7.595101782397772e-17),\n",
       " 'reconstruction_max': np.float64(1.1013412404281553e-13),\n",
       " 'q_mae_mean': np.float64(1.6017246532616314e-16),\n",
       " 'q_mae_max': np.float64(1.5612323139899413e-13),\n",
       " 'r_mae_mean': np.float64(2.2490770366452077e-16),\n",
       " 'r_mae_max': np.float64(1.6631140908884845e-13)}"
      ]
     },
     "execution_count": 60,
     "metadata": {},
     "output_type": "execute_result"
    }
   ],
   "source": [
    "As, recon_errors, q_errors, r_errors = test_hessenberg_qr(100, 300)\n",
    "create_error_dict(reconstruction=recon_errors, q_mae=q_errors, r_mae=r_errors)"
   ]
  },
  {
   "cell_type": "markdown",
   "metadata": {},
   "source": [
    "### Practical-QR Step"
   ]
  },
  {
   "cell_type": "code",
   "execution_count": 61,
   "metadata": {},
   "outputs": [],
   "source": [
    "from eigen import practical_qr"
   ]
  },
  {
   "cell_type": "code",
   "execution_count": 62,
   "metadata": {},
   "outputs": [],
   "source": [
    "def test_qr_iteration(test_count = 100, size = 5, a = 0.0, b = 1.0):\n",
    "\terrors = []\n",
    "\t\n",
    "\tfor t in range(test_count):\n",
    "\t\tA = get_random_symmetric_matrix(size, a, b)\n",
    "\n",
    "\t\tevals, evecs = practical_qr(A)\n",
    "\n",
    "\t\terr = 0.0\n",
    "\t\tfor j, eval in enumerate(evals):\n",
    "\t\t\tvec = evecs[:, j]\n",
    "\n",
    "\t\t\terr += np.mean(np.abs(A @ vec - eval * vec))\n",
    "\t\t\n",
    "\t\terrors.append(err / len(evals))\n",
    "\n",
    "\treturn errors"
   ]
  },
  {
   "cell_type": "code",
   "execution_count": 63,
   "metadata": {},
   "outputs": [
    {
     "data": {
      "text/plain": [
       "{'evec_mean': np.float64(1.3220890526559452e-11),\n",
       " 'evec_max': np.float64(2.72293335417927e-11)}"
      ]
     },
     "execution_count": 63,
     "metadata": {},
     "output_type": "execute_result"
    }
   ],
   "source": [
    "errs = test_qr_iteration(100, 50)\n",
    "create_error_dict(evec=errs)"
   ]
  },
  {
   "cell_type": "markdown",
   "metadata": {},
   "source": [
    "### SVD"
   ]
  },
  {
   "cell_type": "code",
   "execution_count": 64,
   "metadata": {},
   "outputs": [],
   "source": [
    "from svd import svd"
   ]
  },
  {
   "cell_type": "code",
   "execution_count": 65,
   "metadata": {},
   "outputs": [],
   "source": [
    "def test_svd(test_count = 100, size = 5, a = 0.0, b = 1.0, square=True):\n",
    "\terrors = []\n",
    "\t\n",
    "\tfor t in range(test_count):\n",
    "\t\tm = size\n",
    "\t\tn = size\n",
    "\n",
    "\t\tif not square:\n",
    "\t\t\tn = np.random.randint(1, size+1)\n",
    "\n",
    "\t\t\tif np.random.uniform() <= 0.5:\n",
    "\t\t\t\tm, n = n, m\n",
    "\n",
    "\t\tA = np.random.uniform(a, b, (m, n))\n",
    "\n",
    "\t\tU, S, Vt = svd(A)\n",
    "\n",
    "\t\terr = 0.0\n",
    "\t\tfor j, sval in enumerate(S):\n",
    "\t\t\tv = Vt[j]\n",
    "\t\t\tu = U[:, j]\n",
    "\n",
    "\t\t\terr += np.mean(np.abs(A @ v - sval * u))\n",
    "\t\t\n",
    "\t\terrors.append(err / len(S))\n",
    "\n",
    "\treturn errors"
   ]
  },
  {
   "cell_type": "code",
   "execution_count": 66,
   "metadata": {},
   "outputs": [
    {
     "data": {
      "text/plain": [
       "{'recon_err_mean': np.float64(2.5495269946592034e-18),\n",
       " 'recon_err_max': np.float64(2.808740924304527e-18)}"
      ]
     },
     "execution_count": 66,
     "metadata": {},
     "output_type": "execute_result"
    }
   ],
   "source": [
    "create_error_dict(recon_err=test_svd(100, 100, square=True))"
   ]
  },
  {
   "cell_type": "code",
   "execution_count": 67,
   "metadata": {},
   "outputs": [
    {
     "data": {
      "text/plain": [
       "{'recon_err_mean': np.float64(3.612848560453751e-12),\n",
       " 'recon_err_max': np.float64(7.446476768535604e-11)}"
      ]
     },
     "execution_count": 67,
     "metadata": {},
     "output_type": "execute_result"
    }
   ],
   "source": [
    "create_error_dict(recon_err=test_svd(100, 100, square=False))"
   ]
  }
 ],
 "metadata": {
  "kernelspec": {
   "display_name": "numerical",
   "language": "python",
   "name": "python3"
  },
  "language_info": {
   "codemirror_mode": {
    "name": "ipython",
    "version": 3
   },
   "file_extension": ".py",
   "mimetype": "text/x-python",
   "name": "python",
   "nbconvert_exporter": "python",
   "pygments_lexer": "ipython3",
   "version": "3.10.14"
  }
 },
 "nbformat": 4,
 "nbformat_minor": 2
}
