{
 "cells": [
  {
   "cell_type": "code",
   "execution_count": 4,
   "metadata": {},
   "outputs": [
    {
     "name": "stdout",
     "output_type": "stream",
     "text": [
      "The autoreload extension is already loaded. To reload it, use:\n",
      "  %reload_ext autoreload\n"
     ]
    }
   ],
   "source": [
    "%load_ext autoreload\n",
    "%autoreload 2\n",
    "\n",
    "import numpy as np\n",
    "\n",
    "np.set_printoptions(precision=3)\n",
    "np.random.seed(317042)\n",
    "\n",
    "from timeit import default_timer"
   ]
  },
  {
   "cell_type": "code",
   "execution_count": 5,
   "metadata": {},
   "outputs": [],
   "source": [
    "# error reporting function\n",
    "def create_error_dict(**kwargs):\n",
    "\terror_dict = {}\n",
    "\t\n",
    "\tfor err_name, errs in kwargs.items():\n",
    "\t\tmean = np.mean(errs)\n",
    "\t\tmax = np.max(errs)\n",
    "\n",
    "\t\terror_dict[f\"{err_name}_mean\"] = mean\n",
    "\t\terror_dict[f\"{err_name}_max\"] = max\n",
    "\n",
    "\treturn error_dict"
   ]
  },
  {
   "cell_type": "markdown",
   "metadata": {},
   "source": [
    "### Hessenbergification"
   ]
  },
  {
   "cell_type": "code",
   "execution_count": 3,
   "metadata": {},
   "outputs": [],
   "source": [
    "from scipy.linalg import hessenberg\n",
    "from utils import get_random_symmetric_matrix, make_upper_hessenberg\n",
    "\n",
    "def test_hessenberg(test_count = 100, size = 5, a = 0.0, b = 1.0):\n",
    "\ttimes, gt_times = [], []\n",
    "\t\n",
    "\tfor t in range(test_count):\n",
    "\t\tA = get_random_symmetric_matrix(size, a, b)\n",
    "\n",
    "\t\tstart = default_timer()\n",
    "\t\tmake_upper_hessenberg(A)\n",
    "\t\tend = default_timer()\n",
    "\n",
    "\t\ttimes.append(end - start)\n",
    "\n",
    "\t\tstart = default_timer()\n",
    "\t\thessenberg(A)\n",
    "\t\tend = default_timer()\n",
    "\n",
    "\t\tgt_times.append(end - start)\n",
    "\n",
    "\n",
    "\treturn times, gt_times"
   ]
  },
  {
   "cell_type": "code",
   "execution_count": 6,
   "metadata": {},
   "outputs": [
    {
     "data": {
      "text/plain": [
       "{'ours_mean': np.float64(0.022182323001907207),\n",
       " 'ours_max': np.float64(0.03100240000640042),\n",
       " 'scipy_mean': np.float64(0.02487172900058795),\n",
       " 'scipy_max': np.float64(0.29665879998356104)}"
      ]
     },
     "execution_count": 6,
     "metadata": {},
     "output_type": "execute_result"
    }
   ],
   "source": [
    "times, gt_times = test_hessenberg(100, 200)\n",
    "create_error_dict(ours=times, scipy=gt_times)"
   ]
  },
  {
   "cell_type": "markdown",
   "metadata": {},
   "source": [
    "### Hessenberg QR"
   ]
  },
  {
   "cell_type": "code",
   "execution_count": 7,
   "metadata": {},
   "outputs": [],
   "source": [
    "from utils import hessenberg_qr\n",
    "\n",
    "def test_hessenberg_qr(test_count = 100, size = 5, a = 0.0, b = 1.0):\n",
    "\ttimes, gt_times = [], []\n",
    "\n",
    "\tfor t in range(test_count):\n",
    "\t\tA = get_random_symmetric_matrix(size, a, b)\n",
    "\n",
    "\t\tH, _ = make_upper_hessenberg(A)\n",
    "\t\t\n",
    "\t\tstart = default_timer()\n",
    "\t\thessenberg_qr(H)\n",
    "\t\tend = default_timer()\n",
    "\n",
    "\t\ttimes.append(end - start)\n",
    "\n",
    "\t\tstart = default_timer()\n",
    "\t\tnp.linalg.qr(H)\n",
    "\t\tend = default_timer()\n",
    "\n",
    "\t\tgt_times.append(end - start)\n",
    "\n",
    "\treturn times, gt_times\n"
   ]
  },
  {
   "cell_type": "code",
   "execution_count": 8,
   "metadata": {},
   "outputs": [
    {
     "data": {
      "text/plain": [
       "{'hessenberg_qr_mean': np.float64(0.001287365999596659),\n",
       " 'hessenberg_qr_max': np.float64(0.0023849999997764826),\n",
       " 'generic_qr_mean': np.float64(0.00015175699722021817),\n",
       " 'generic_qr_max': np.float64(0.00040599997737444937)}"
      ]
     },
     "execution_count": 8,
     "metadata": {},
     "output_type": "execute_result"
    }
   ],
   "source": [
    "times, gt_times = test_hessenberg_qr(100, 50)\n",
    "create_error_dict(hessenberg_qr=times, generic_qr=gt_times)"
   ]
  },
  {
   "cell_type": "code",
   "execution_count": 9,
   "metadata": {},
   "outputs": [
    {
     "data": {
      "text/plain": [
       "{'hessenberg_qr_mean': np.float64(0.002619778997905087),\n",
       " 'hessenberg_qr_max': np.float64(0.00598270000773482),\n",
       " 'generic_qr_mean': np.float64(0.002375703998550307),\n",
       " 'generic_qr_max': np.float64(0.003678499982925132)}"
      ]
     },
     "execution_count": 9,
     "metadata": {},
     "output_type": "execute_result"
    }
   ],
   "source": [
    "times, gt_times = test_hessenberg_qr(100, 100)\n",
    "create_error_dict(hessenberg_qr=times, generic_qr=gt_times)"
   ]
  },
  {
   "cell_type": "code",
   "execution_count": 10,
   "metadata": {},
   "outputs": [
    {
     "data": {
      "text/plain": [
       "{'hessenberg_qr_mean': np.float64(0.005427810001710895),\n",
       " 'hessenberg_qr_max': np.float64(0.006075200013583526),\n",
       " 'generic_qr_mean': np.float64(0.007556002998317126),\n",
       " 'generic_qr_max': np.float64(0.008458299998892471)}"
      ]
     },
     "execution_count": 10,
     "metadata": {},
     "output_type": "execute_result"
    }
   ],
   "source": [
    "times, gt_times = test_hessenberg_qr(100, 200)\n",
    "create_error_dict(hessenberg_qr=times, generic_qr=gt_times)"
   ]
  },
  {
   "cell_type": "code",
   "execution_count": 11,
   "metadata": {},
   "outputs": [
    {
     "data": {
      "text/plain": [
       "{'hessenberg_qr_mean': np.float64(0.012431529000168666),\n",
       " 'hessenberg_qr_max': np.float64(0.019479299982776865),\n",
       " 'generic_qr_mean': np.float64(0.025459886999742595),\n",
       " 'generic_qr_max': np.float64(0.0333229000098072)}"
      ]
     },
     "execution_count": 11,
     "metadata": {},
     "output_type": "execute_result"
    }
   ],
   "source": [
    "times, gt_times = test_hessenberg_qr(100, 400)\n",
    "create_error_dict(hessenberg_qr=times, generic_qr=gt_times)"
   ]
  },
  {
   "cell_type": "code",
   "execution_count": 12,
   "metadata": {},
   "outputs": [
    {
     "data": {
      "text/plain": [
       "{'hessenberg_qr_mean': np.float64(0.029923908999189733),\n",
       " 'hessenberg_qr_max': np.float64(0.045188100019004196),\n",
       " 'generic_qr_mean': np.float64(0.09073173800104996),\n",
       " 'generic_qr_max': np.float64(0.1270496000070125)}"
      ]
     },
     "execution_count": 12,
     "metadata": {},
     "output_type": "execute_result"
    }
   ],
   "source": [
    "times, gt_times = test_hessenberg_qr(100, 800)\n",
    "create_error_dict(hessenberg_qr=times, generic_qr=gt_times)"
   ]
  },
  {
   "cell_type": "markdown",
   "metadata": {},
   "source": [
    "### Practical-QR Step"
   ]
  },
  {
   "cell_type": "code",
   "execution_count": 15,
   "metadata": {},
   "outputs": [],
   "source": [
    "from eigen import practical_qr"
   ]
  },
  {
   "cell_type": "code",
   "execution_count": 16,
   "metadata": {},
   "outputs": [],
   "source": [
    "def test_qr_iteration(test_count = 100, size = 5, a = 0.0, b = 1.0):\n",
    "\ttimes, gt_times = [], []\n",
    "\n",
    "\tfor t in range(test_count):\n",
    "\t\tA = get_random_symmetric_matrix(size, a, b)\n",
    "\t\t\n",
    "\t\tstart = default_timer()\n",
    "\t\tpractical_qr(A)\n",
    "\t\tend = default_timer()\n",
    "\n",
    "\t\ttimes.append(end - start)\n",
    "\n",
    "\t\tstart = default_timer()\n",
    "\t\tnp.linalg.eig(A)\n",
    "\t\tend = default_timer()\n",
    "\n",
    "\t\tgt_times.append(end - start)\n",
    "\n",
    "\t\t\n",
    "\treturn times, gt_times"
   ]
  },
  {
   "cell_type": "code",
   "execution_count": 18,
   "metadata": {},
   "outputs": [
    {
     "data": {
      "text/plain": [
       "{'ours_mean': np.float64(0.09570241999463178),\n",
       " 'ours_max': np.float64(0.10612000001128763),\n",
       " 'numpy_mean': np.float64(0.0006238200003281236),\n",
       " 'numpy_max': np.float64(0.0006505000055767596)}"
      ]
     },
     "execution_count": 18,
     "metadata": {},
     "output_type": "execute_result"
    }
   ],
   "source": [
    "times, gt_times = test_qr_iteration(5, 50)\n",
    "create_error_dict(ours=times, numpy=gt_times)"
   ]
  },
  {
   "cell_type": "code",
   "execution_count": 19,
   "metadata": {},
   "outputs": [
    {
     "data": {
      "text/plain": [
       "{'ours_mean': np.float64(0.408254500007024),\n",
       " 'ours_max': np.float64(0.4275903000088874),\n",
       " 'numpy_mean': np.float64(0.008335179998539388),\n",
       " 'numpy_max': np.float64(0.014173800009302795)}"
      ]
     },
     "execution_count": 19,
     "metadata": {},
     "output_type": "execute_result"
    }
   ],
   "source": [
    "times, gt_times = test_qr_iteration(5, 100)\n",
    "create_error_dict(ours=times, numpy=gt_times)"
   ]
  },
  {
   "cell_type": "code",
   "execution_count": 20,
   "metadata": {},
   "outputs": [
    {
     "data": {
      "text/plain": [
       "{'ours_mean': np.float64(14.508027259993833),\n",
       " 'ours_max': np.float64(15.22019769999315),\n",
       " 'numpy_mean': np.float64(0.1918787800008431),\n",
       " 'numpy_max': np.float64(0.21329169999808073)}"
      ]
     },
     "execution_count": 20,
     "metadata": {},
     "output_type": "execute_result"
    }
   ],
   "source": [
    "times, gt_times = test_qr_iteration(5, 500)\n",
    "create_error_dict(ours=times, numpy=gt_times)"
   ]
  },
  {
   "cell_type": "markdown",
   "metadata": {},
   "source": [
    "### SVD"
   ]
  },
  {
   "cell_type": "code",
   "execution_count": 22,
   "metadata": {},
   "outputs": [],
   "source": [
    "from svd import svd"
   ]
  },
  {
   "cell_type": "code",
   "execution_count": 23,
   "metadata": {},
   "outputs": [],
   "source": [
    "def test_svd(test_count = 100, size = 5, a = 0.0, b = 1.0, square=False):\n",
    "\ttimes, gt_times = [], []\n",
    "\t\n",
    "\tfor t in range(test_count):\n",
    "\t\tm = size\n",
    "\t\tn = size\n",
    "\n",
    "\t\tif not square:\n",
    "\t\t\tn = np.random.randint(1, size+1)\n",
    "\n",
    "\t\t\tif np.random.uniform() <= 0.5:\n",
    "\t\t\t\tm, n = n, m\n",
    "\n",
    "\t\tA = np.random.uniform(a, b, (m, n))\n",
    "\n",
    "\t\tstart = default_timer()\n",
    "\t\tsvd(A)\n",
    "\t\tend = default_timer()\n",
    "\n",
    "\t\ttimes.append(end - start)\n",
    "\n",
    "\t\tstart = default_timer()\n",
    "\t\tnp.linalg.svd(A, full_matrices=False)\n",
    "\t\tend = default_timer()\n",
    "\n",
    "\t\tgt_times.append(end - start)\n",
    "\n",
    "\treturn times, gt_times"
   ]
  },
  {
   "cell_type": "code",
   "execution_count": 26,
   "metadata": {},
   "outputs": [
    {
     "data": {
      "text/plain": [
       "{'ours_mean': np.float64(0.022426299995277076),\n",
       " 'ours_max': np.float64(0.08493459998862818),\n",
       " 'numpy_mean': np.float64(0.00043311999179422854),\n",
       " 'numpy_max': np.float64(0.0016158999933395535)}"
      ]
     },
     "execution_count": 26,
     "metadata": {},
     "output_type": "execute_result"
    }
   ],
   "source": [
    "times, gt_times = test_svd(5, 50)\n",
    "create_error_dict(ours=times, numpy=gt_times)"
   ]
  },
  {
   "cell_type": "code",
   "execution_count": 27,
   "metadata": {},
   "outputs": [
    {
     "data": {
      "text/plain": [
       "{'ours_mean': np.float64(0.10645417999476195),\n",
       " 'ours_max': np.float64(0.2473269999900367),\n",
       " 'numpy_mean': np.float64(0.001976139994803816),\n",
       " 'numpy_max': np.float64(0.004693399998359382)}"
      ]
     },
     "execution_count": 27,
     "metadata": {},
     "output_type": "execute_result"
    }
   ],
   "source": [
    "times, gt_times = test_svd(5, 100)\n",
    "create_error_dict(ours=times, numpy=gt_times)"
   ]
  },
  {
   "cell_type": "code",
   "execution_count": 28,
   "metadata": {},
   "outputs": [
    {
     "data": {
      "text/plain": [
       "{'ours_mean': np.float64(6.577215020003496),\n",
       " 'ours_max': np.float64(11.247191800008295),\n",
       " 'numpy_mean': np.float64(0.06905266001122072),\n",
       " 'numpy_max': np.float64(0.11733060001279227)}"
      ]
     },
     "execution_count": 28,
     "metadata": {},
     "output_type": "execute_result"
    }
   ],
   "source": [
    "times, gt_times = test_svd(5, 500)\n",
    "create_error_dict(ours=times, numpy=gt_times)"
   ]
  }
 ],
 "metadata": {
  "kernelspec": {
   "display_name": "numerical",
   "language": "python",
   "name": "python3"
  },
  "language_info": {
   "codemirror_mode": {
    "name": "ipython",
    "version": 3
   },
   "file_extension": ".py",
   "mimetype": "text/x-python",
   "name": "python",
   "nbconvert_exporter": "python",
   "pygments_lexer": "ipython3",
   "version": "3.10.14"
  }
 },
 "nbformat": 4,
 "nbformat_minor": 2
}
