{
 "cells": [
  {
   "cell_type": "code",
   "execution_count": 3,
   "metadata": {},
   "outputs": [],
   "source": [
    "%load_ext autoreload\n",
    "%autoreload 2\n",
    "\n",
    "import numpy as np\n",
    "\n",
    "np.set_printoptions(precision=3)"
   ]
  },
  {
   "cell_type": "code",
   "execution_count": 104,
   "metadata": {},
   "outputs": [],
   "source": [
    "# error reporting function\n",
    "def create_error_dict(**kwargs):\n",
    "\terror_dict = {}\n",
    "\t\n",
    "\tfor err_name, errs in kwargs.items():\n",
    "\t\tmean = np.mean(errs)\n",
    "\t\tmax = np.max(errs)\n",
    "\n",
    "\t\terror_dict[f\"{err_name}_mean\"] = mean\n",
    "\t\terror_dict[f\"{err_name}_max\"] = max\n",
    "\n",
    "\treturn error_dict"
   ]
  },
  {
   "cell_type": "markdown",
   "metadata": {},
   "source": [
    "### Stability (and correctness) of Hessenberg-ification"
   ]
  },
  {
   "cell_type": "code",
   "execution_count": 108,
   "metadata": {},
   "outputs": [],
   "source": [
    "from scipy.linalg import hessenberg\n",
    "from utils import get_random_symmetric_matrix, make_upper_hessenberg\n",
    "\n",
    "ZERO = 1e-15\n",
    "\n",
    "def test_hessenberg(test_count = 100, size = 5, a = 0.0, b = 1.0):\n",
    "\tAs = []\n",
    "\terrors = []\n",
    "\n",
    "\tfor t in range(test_count):\n",
    "\t\tA = get_random_symmetric_matrix(size, a, b)\n",
    "\t\tAs.append(A)\n",
    "\n",
    "\t\tHp, _ = make_upper_hessenberg(A)\n",
    "\t\tH = hessenberg(A)\n",
    "\n",
    "\t\terrors.append(np.abs(Hp - H))\n",
    "\n",
    "\treturn As, errors"
   ]
  },
  {
   "cell_type": "code",
   "execution_count": 107,
   "metadata": {},
   "outputs": [
    {
     "data": {
      "text/plain": [
       "{'mae_mean': np.float64(2.888161030635708e-15),\n",
       " 'mae_max': np.float64(1.432921781230334e-09)}"
      ]
     },
     "execution_count": 107,
     "metadata": {},
     "output_type": "execute_result"
    }
   ],
   "source": [
    "As, errs = test_hessenberg(100, 200)\n",
    "create_error_dict(mae=errs)"
   ]
  },
  {
   "cell_type": "markdown",
   "metadata": {},
   "source": [
    "### Correctness of Hessenberg QR"
   ]
  },
  {
   "cell_type": "code",
   "execution_count": 106,
   "metadata": {},
   "outputs": [],
   "source": [
    "from utils import hessenberg_qr\n",
    "\n",
    "ZERO = 1e-15\n",
    "\n",
    "def test_hessenberg_qr(test_count = 100, size = 5, a = 0.0, b = 1.0):\n",
    "\tAs = []\n",
    "\trecon_errors = []\n",
    "\tq_errors = []\n",
    "\tr_errors = []\n",
    "\n",
    "\tfor t in range(test_count):\n",
    "\t\tA = get_random_symmetric_matrix(size, a, b)\n",
    "\t\tAs.append(A)\n",
    "\n",
    "\t\tH, _ = make_upper_hessenberg(A)\n",
    "\t\tQp, Rp = hessenberg_qr(H)\n",
    "\t\tQ, R = np.linalg.qr(H)\n",
    "\n",
    "\t\trecon_errors.append(np.abs(Qp @ Rp - H))\n",
    "\t\tq_errors.append(np.abs(Q - Qp))\n",
    "\t\tr_errors.append(np.abs(R - Rp))\n",
    "\n",
    "\treturn As, recon_errors, q_errors, r_errors\n"
   ]
  },
  {
   "cell_type": "code",
   "execution_count": 109,
   "metadata": {},
   "outputs": [
    {
     "data": {
      "text/plain": [
       "{'reconstruction_mean': np.float64(7.953248318450292e-17),\n",
       " 'reconstruction_max': np.float64(1.545430450278218e-13),\n",
       " 'q_mae_mean': np.float64(1.7880189072632124e-16),\n",
       " 'q_mae_max': np.float64(6.54309939562836e-13),\n",
       " 'r_mae_mean': np.float64(3.1794146452756553e-16),\n",
       " 'r_mae_max': np.float64(9.002798506685394e-13)}"
      ]
     },
     "execution_count": 109,
     "metadata": {},
     "output_type": "execute_result"
    }
   ],
   "source": [
    "As, recon_errors, q_errors, r_errors = test_hessenberg_qr(100, 500)\n",
    "create_error_dict(reconstruction=recon_errors, q_mae=q_errors, r_mae=r_errors)"
   ]
  },
  {
   "cell_type": "markdown",
   "metadata": {},
   "source": [
    "### Practical-QR Step"
   ]
  },
  {
   "cell_type": "code",
   "execution_count": 25,
   "metadata": {},
   "outputs": [],
   "source": [
    "from eigen import practical_qr"
   ]
  },
  {
   "cell_type": "code",
   "execution_count": 56,
   "metadata": {},
   "outputs": [],
   "source": [
    "A = get_random_symmetric_matrix(500)"
   ]
  },
  {
   "cell_type": "code",
   "execution_count": 57,
   "metadata": {},
   "outputs": [],
   "source": [
    "e1 = practical_qr(A)"
   ]
  },
  {
   "cell_type": "code",
   "execution_count": 132,
   "metadata": {},
   "outputs": [],
   "source": [
    "def test_qr_iteration(test_count = 100, size = 5, a = 0.0, b = 1.0):\n",
    "\terrors = []\n",
    "\t\n",
    "\tfor t in range(test_count):\n",
    "\t\tA = get_random_symmetric_matrix(size, a, b)\n",
    "\t\tAs.append(A)\n",
    "\n",
    "\t\tevals, evecs = practical_qr(A)\n",
    "\n",
    "\t\terr = 0.0\n",
    "\t\tfor j, eval in enumerate(evals):\n",
    "\t\t\tvec = evecs[:, j]\n",
    "\n",
    "\t\t\terr += np.mean(np.abs(A @ vec - eval * vec))\n",
    "\t\t\n",
    "\t\terrors.append(err / len(evals))\n",
    "\n",
    "\treturn errors"
   ]
  },
  {
   "cell_type": "code",
   "execution_count": 133,
   "metadata": {},
   "outputs": [
    {
     "data": {
      "text/plain": [
       "{'evec_mean': np.float64(1.2981901996682546e-11),\n",
       " 'evec_max': np.float64(2.330312905538164e-11)}"
      ]
     },
     "execution_count": 133,
     "metadata": {},
     "output_type": "execute_result"
    }
   ],
   "source": [
    "errs = test_qr_iteration(100, 50)\n",
    "create_error_dict(evec=errs)"
   ]
  },
  {
   "cell_type": "markdown",
   "metadata": {},
   "source": [
    "### SVD"
   ]
  },
  {
   "cell_type": "code",
   "execution_count": 134,
   "metadata": {},
   "outputs": [],
   "source": [
    "from svd import svd"
   ]
  },
  {
   "cell_type": "code",
   "execution_count": 205,
   "metadata": {},
   "outputs": [],
   "source": [
    "A = np.random.uniform(0.0, 1.0, (27, 12))"
   ]
  },
  {
   "cell_type": "code",
   "execution_count": 204,
   "metadata": {},
   "outputs": [],
   "source": [
    "u1, s1, v1 = np.linalg.svd(A, full_matrices=False)"
   ]
  },
  {
   "cell_type": "code",
   "execution_count": 203,
   "metadata": {},
   "outputs": [],
   "source": [
    "u2, s2, v2 = svd(A)"
   ]
  }
 ],
 "metadata": {
  "kernelspec": {
   "display_name": "numerical",
   "language": "python",
   "name": "python3"
  },
  "language_info": {
   "codemirror_mode": {
    "name": "ipython",
    "version": 3
   },
   "file_extension": ".py",
   "mimetype": "text/x-python",
   "name": "python",
   "nbconvert_exporter": "python",
   "pygments_lexer": "ipython3",
   "version": "3.10.14"
  }
 },
 "nbformat": 4,
 "nbformat_minor": 2
}
