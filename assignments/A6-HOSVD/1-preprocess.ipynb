{
 "cells": [
  {
   "cell_type": "code",
   "execution_count": 1,
   "metadata": {},
   "outputs": [],
   "source": [
    "%load_ext autoreload\n",
    "%autoreload 2\n",
    "\n",
    "import numpy as np\n",
    "import imageio\n",
    "import cv2 as cv\n",
    "import matplotlib.pyplot as plt\n",
    "import os\n",
    "\n",
    "from tqdm import tqdm"
   ]
  },
  {
   "cell_type": "code",
   "execution_count": 7,
   "metadata": {},
   "outputs": [],
   "source": [
    "scene_type = \"Underconstrained_flicker\"\n",
    "base = f\"DTDB/BY_DYNAMIC_FINAL/TRAIN/{scene_type}/\"\n",
    "out =f\"processed/{scene_type}/\"\n",
    "files = [\"Underconstrained_flicker_g1_c1.mp4\", \"Underconstrained_flicker_g1_c4.mp4\", \"Underconstrained_flicker_g1_c55.mp4\", \"Underconstrained_flicker_g1_c28.mp4\", \"Underconstrained_flicker_g1_c111.mp4\", \"Underconstrained_flicker_g1_c129.mp4\", \"Underconstrained_flicker_g1_c150.mp4\"]"
   ]
  },
  {
   "cell_type": "code",
   "execution_count": 8,
   "metadata": {},
   "outputs": [
    {
     "name": "stderr",
     "output_type": "stream",
     "text": [
      "300it [00:01, 233.38it/s]00<?, ?it/s]\n",
      "273it [00:01, 179.40it/s]01<00:08,  1.44s/it]\n",
      "300it [00:01, 218.31it/s]03<00:07,  1.54s/it]\n",
      "285it [00:00, 339.67it/s]04<00:06,  1.52s/it]\n",
      "300it [00:02, 132.93it/s]05<00:03,  1.29s/it]\n",
      "250it [00:01, 125.29it/s]07<00:03,  1.68s/it]\n",
      "180it [00:01, 133.90it/s]10<00:01,  1.84s/it]\n",
      "100%|██████████| 7/7 [00:11<00:00,  1.64s/it]\n"
     ]
    }
   ],
   "source": [
    "for file in tqdm(files):\n",
    "\tpath = os.path.join(base, file)\n",
    "\tvid = imageio.get_reader(path,  'ffmpeg')\n",
    "\tname = os.path.splitext(file)[0]\n",
    "\n",
    "\tout_path = os.path.join(out, name)\n",
    "\n",
    "\tif os.path.exists(out_path):\n",
    "\t\tcontinue\n",
    "\n",
    "\tos.makedirs(out_path, exist_ok=False)\n",
    "\n",
    "\tfor i, im in tqdm(enumerate(vid), total=vid.get_length()):\n",
    "\t\trsz = cv.resize(im, (128, 128), interpolation=cv.INTER_LINEAR)\n",
    "\t\tgray = cv.cvtColor(rsz, cv.COLOR_RGB2GRAY)\n",
    "\n",
    "\t\tgray[gray < 130] = 0\n",
    "\n",
    "\t\tcv.imwrite(os.path.join(out_path, f\"{i}.png\"), gray)\n"
   ]
  }
 ],
 "metadata": {
  "kernelspec": {
   "display_name": "numerical",
   "language": "python",
   "name": "python3"
  },
  "language_info": {
   "codemirror_mode": {
    "name": "ipython",
    "version": 3
   },
   "file_extension": ".py",
   "mimetype": "text/x-python",
   "name": "python",
   "nbconvert_exporter": "python",
   "pygments_lexer": "ipython3",
   "version": "3.10.14"
  }
 },
 "nbformat": 4,
 "nbformat_minor": 2
}
