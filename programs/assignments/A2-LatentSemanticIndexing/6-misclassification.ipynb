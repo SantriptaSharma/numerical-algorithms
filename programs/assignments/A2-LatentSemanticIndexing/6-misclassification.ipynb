{
 "cells": [
  {
   "cell_type": "code",
   "execution_count": 30,
   "metadata": {},
   "outputs": [
    {
     "name": "stdout",
     "output_type": "stream",
     "text": [
      "The autoreload extension is already loaded. To reload it, use:\n",
      "  %reload_ext autoreload\n"
     ]
    }
   ],
   "source": [
    "import pandas as pd\n",
    "import numpy as np\n",
    "import pickle\n",
    "import csv\n",
    "\n",
    "%load_ext autoreload\n",
    "%autoreload 2\n",
    "\n",
    "term_freqs = {}\n",
    "with open(\"term_freqs.csv\", \"r\") as f:\n",
    "\treader = csv.reader(f)\n",
    "\n",
    "\tfor term, freq in reader:\n",
    "\t\tterm_freqs[term] = float(freq)\n",
    "\n",
    "Ks = [8, 16, 32, 65, 130, 260, 520, 521]\n",
    "\n",
    "freq_truncs = {k: None for k in Ks}\n",
    "norm_truncs = {k: None for k in Ks}\n",
    "bin_truncs = {k: None for k in Ks}\n",
    "\n",
    "cat_to_ids = {}\n",
    "with open(\"cat_to_ids.pkl\", \"rb\") as f:\n",
    "\tcat_to_ids = pickle.load(f)\n",
    "\n",
    "sorted_cats = np.array(sorted(list(cat_to_ids.keys())))\n",
    "\n",
    "for k in Ks:\n",
    "\twith open(f\"freq_trunc_{k}.pkl\", \"rb\") as f:\n",
    "\t\tfreq_truncs[k] = pickle.load(f)\n",
    "\n",
    "\twith open(f\"norm_trunc_{k}.pkl\", \"rb\") as f:\n",
    "\t\tnorm_truncs[k] = pickle.load(f)\n",
    "\n",
    "\twith open(f\"bin_trunc_{k}.pkl\", \"rb\") as f:\n",
    "\t\tbin_truncs[k] = pickle.load(f)"
   ]
  },
  {
   "cell_type": "code",
   "execution_count": 25,
   "metadata": {},
   "outputs": [],
   "source": [
    "import json\n",
    "\n",
    "ddc_mapping = {}\n",
    "\n",
    "# thanks, claude\n",
    "with open(\"ddc.json\", \"r\") as f:\n",
    "\tddc_mapping = json.load(f)\n",
    "\n",
    "books_obj = {}\n",
    "with open(\"books_cleaned.json\", \"r\") as f:\n",
    "\tbooks_obj = json.load(f)"
   ]
  },
  {
   "cell_type": "code",
   "execution_count": 26,
   "metadata": {},
   "outputs": [],
   "source": [
    "from helpers import embed, doc_query, get_doc_indices_by_distance\n",
    "\n",
    "def query_to_cats(query, svd, normalised=True):\n",
    "\te = embed(query, term_freqs, normalised)\n",
    "\tq = doc_query(e, svd)\n",
    "\treturn sorted_cats[get_doc_indices_by_distance(q, svd)]"
   ]
  },
  {
   "cell_type": "code",
   "execution_count": 49,
   "metadata": {},
   "outputs": [
    {
     "data": {
      "text/plain": [
       "0"
      ]
     },
     "execution_count": 49,
     "metadata": {},
     "output_type": "execute_result"
    }
   ],
   "source": [
    "def ddn_error(pred, gt):\n",
    "\terr = 3\n",
    "\n",
    "\tfor i in range(2, -1, -1):\n",
    "\t\tdiv = 10**i\n",
    "\n",
    "\t\tif pred // div != gt // div:\n",
    "\t\t\tbreak\n",
    "\n",
    "\t\terr -= 1\n",
    "\n",
    "\treturn err\n",
    "\n",
    "ddn_error(320, 320)"
   ]
  },
  {
   "cell_type": "code",
   "execution_count": 53,
   "metadata": {},
   "outputs": [
    {
     "data": {
      "text/plain": [
       "8535"
      ]
     },
     "execution_count": 53,
     "metadata": {},
     "output_type": "execute_result"
    }
   ],
   "source": [
    "book_count = len(books_obj.items())\n",
    "book_count"
   ]
  },
  {
   "cell_type": "code",
   "execution_count": 54,
   "metadata": {},
   "outputs": [
    {
     "name": "stderr",
     "output_type": "stream",
     "text": [
      "100%|██████████| 8535/8535 [00:37<00:00, 230.56it/s]\n",
      "100%|██████████| 8535/8535 [00:41<00:00, 204.71it/s]\n",
      "100%|██████████| 8535/8535 [00:53<00:00, 158.76it/s]\n",
      "100%|██████████| 8535/8535 [01:34<00:00, 90.74it/s] \n",
      "100%|██████████| 8535/8535 [02:42<00:00, 52.64it/s]\n",
      "100%|██████████| 8535/8535 [04:25<00:00, 32.15it/s]\n",
      "100%|██████████| 8535/8535 [07:29<00:00, 18.99it/s]\n",
      "100%|██████████| 8535/8535 [02:08<00:00, 66.40it/s]\n"
     ]
    }
   ],
   "source": [
    "from tqdm import tqdm\n",
    "\n",
    "bin_sums = {K: 0 for K in Ks}\n",
    "freq_sums = {K: 0 for K in Ks}\n",
    "norm_sums = {K: 0 for K in Ks}\n",
    "\n",
    "for K in Ks:\n",
    "\tfor _, book in tqdm(books_obj.items()):\n",
    "\t\ttitle = book[\"title\"]\n",
    "\t\tgt = int(book[\"ddn\"].split(\".\")[0])\n",
    "\n",
    "\t\tpred = int(query_to_cats(title, freq_truncs[K])[0])\n",
    "\t\terr = ddn_error(pred, gt)\n",
    "\t\tfreq_sums[K] += err\n",
    "\n",
    "\t\tpred = int(query_to_cats(title, bin_truncs[K])[0])\n",
    "\t\terr = ddn_error(pred, gt)\n",
    "\t\tbin_sums[K] += err\n",
    "\n",
    "\t\tpred = int(query_to_cats(title, norm_truncs[K])[0])\n",
    "\t\terr = ddn_error(pred, gt)\n",
    "\t\tnorm_sums[K] += err"
   ]
  },
  {
   "cell_type": "code",
   "execution_count": 55,
   "metadata": {},
   "outputs": [
    {
     "data": {
      "text/plain": [
       "{8: 1.833743409490334,\n",
       " 16: 1.5757469244288225,\n",
       " 32: 1.4679554774458115,\n",
       " 65: 1.3052138254247216,\n",
       " 130: 1.3330990041007615,\n",
       " 260: 1.552548330404218,\n",
       " 520: 1.960398359695372,\n",
       " 521: 2.518804920913884}"
      ]
     },
     "execution_count": 55,
     "metadata": {},
     "output_type": "execute_result"
    }
   ],
   "source": [
    "\n",
    "freq_avgs = {K: freq_sums[K] / book_count for K in Ks}\n",
    "freq_avgs"
   ]
  },
  {
   "cell_type": "code",
   "execution_count": 56,
   "metadata": {},
   "outputs": [
    {
     "data": {
      "text/plain": [
       "{8: 1.9361452841241944,\n",
       " 16: 1.7288810779144699,\n",
       " 32: 1.535676625659051,\n",
       " 65: 1.2787346221441125,\n",
       " 130: 1.0924428822495607,\n",
       " 260: 1.0678383128295255,\n",
       " 520: 1.547510251903925,\n",
       " 521: 1.9022847100175746}"
      ]
     },
     "execution_count": 56,
     "metadata": {},
     "output_type": "execute_result"
    }
   ],
   "source": [
    "norm_avgs = {K: norm_sums[K] / book_count for K in Ks}\n",
    "norm_avgs"
   ]
  },
  {
   "cell_type": "code",
   "execution_count": 57,
   "metadata": {},
   "outputs": [
    {
     "data": {
      "text/plain": [
       "{8: 1.9220855301698887,\n",
       " 16: 1.7342706502636205,\n",
       " 32: 1.4481546572934973,\n",
       " 65: 1.1669595782073814,\n",
       " 130: 1.1103690685413006,\n",
       " 260: 1.2856473345049795,\n",
       " 520: 1.6515524311657879,\n",
       " 521: 2.1161101347393085}"
      ]
     },
     "execution_count": 57,
     "metadata": {},
     "output_type": "execute_result"
    }
   ],
   "source": [
    "bin_avgs = {K: bin_sums[K] / book_count for K in Ks}\n",
    "bin_avgs"
   ]
  }
 ],
 "metadata": {
  "kernelspec": {
   "display_name": "numerical",
   "language": "python",
   "name": "python3"
  },
  "language_info": {
   "codemirror_mode": {
    "name": "ipython",
    "version": 3
   },
   "file_extension": ".py",
   "mimetype": "text/x-python",
   "name": "python",
   "nbconvert_exporter": "python",
   "pygments_lexer": "ipython3",
   "version": "3.10.14"
  }
 },
 "nbformat": 4,
 "nbformat_minor": 2
}
