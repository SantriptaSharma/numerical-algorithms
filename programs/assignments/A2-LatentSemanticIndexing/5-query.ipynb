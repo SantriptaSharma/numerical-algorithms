{
 "cells": [
  {
   "cell_type": "code",
   "execution_count": 162,
   "metadata": {},
   "outputs": [
    {
     "name": "stdout",
     "output_type": "stream",
     "text": [
      "The autoreload extension is already loaded. To reload it, use:\n",
      "  %reload_ext autoreload\n"
     ]
    }
   ],
   "source": [
    "import pandas as pd\n",
    "import numpy as np\n",
    "import pickle\n",
    "import csv\n",
    "\n",
    "%load_ext autoreload\n",
    "%autoreload 2\n",
    "\n",
    "term_freqs = {}\n",
    "with open(\"term_freqs.csv\", \"r\") as f:\n",
    "\treader = csv.reader(f)\n",
    "\n",
    "\tfor term, freq in reader:\n",
    "\t\tterm_freqs[term] = float(freq)\n",
    "\n",
    "cat_to_ids = {}\n",
    "with open(\"cat_to_ids.pkl\", \"rb\") as f:\n",
    "\tcat_to_ids = pickle.load(f)\n",
    "\n",
    "sorted_cats = np.array(sorted(list(cat_to_ids.keys())))\n",
    "\n",
    "freq_trunc = None\n",
    "with open(\"freq_trunc.pkl\", \"rb\") as f:\n",
    "\tfreq_trunc = pickle.load(f)\n",
    "\n",
    "norm_trunc = None\n",
    "with open(\"norm_trunc.pkl\", \"rb\") as f:\n",
    "\tnorm_trunc = pickle.load(f)\n",
    "\n",
    "bin_trunc = None\n",
    "with open(\"bin_trunc.pkl\", \"rb\") as f:\n",
    "\tbin_trunc = pickle.load(f)\n"
   ]
  },
  {
   "cell_type": "code",
   "execution_count": 183,
   "metadata": {},
   "outputs": [],
   "source": [
    "import json\n",
    "\n",
    "ddc_mapping = {}\n",
    "\n",
    "# thanks, claude\n",
    "with open(\"ddc.json\", \"r\") as f:\n",
    "\tddc_mapping = json.load(f)"
   ]
  },
  {
   "cell_type": "code",
   "execution_count": 289,
   "metadata": {},
   "outputs": [],
   "source": [
    "from helpers import embed, doc_query, get_doc_indices_by_distance\n",
    "\n",
    "def query_to_cats(query, svd):\n",
    "\te = embed(query, term_freqs, True)\n",
    "\tq = doc_query(e, svd)\n",
    "\treturn sorted_cats[get_doc_indices_by_distance(q, svd)]\t\n",
    "\n",
    "def query_to_cat_names(query, svd):\n",
    "\tcats = query_to_cats(query, svd)\n",
    "\n",
    "\ttopics = []\n",
    "\tfor cat in cats:\n",
    "\t\ttopics.append(ddc_mapping[cat])\n",
    "\n",
    "\treturn topics"
   ]
  },
  {
   "cell_type": "code",
   "execution_count": 290,
   "metadata": {},
   "outputs": [
    {
     "data": {
      "text/plain": [
       "(['Analysis',\n",
       "  'Algebra & number theory',\n",
       "  'Mathematics',\n",
       "  'Probabilities & applied mathematics',\n",
       "  'History of Southeast Asia'],\n",
       " ['Algebra & number theory',\n",
       "  'Social processes',\n",
       "  'Philosophy & theory',\n",
       "  'General management',\n",
       "  'Economics of land & energy'],\n",
       " ['Factors affecting social behavior',\n",
       "  'Social interaction',\n",
       "  'East Indo-European & Celtic languages',\n",
       "  'Labor economics',\n",
       "  'Algebra & number theory'])"
      ]
     },
     "execution_count": 290,
     "metadata": {},
     "output_type": "execute_result"
    }
   ],
   "source": [
    "q = \"linear algebra\"\n",
    "query_to_cat_names(q, bin_trunc)[:5], query_to_cat_names(q, freq_trunc)[:5], query_to_cat_names(q, norm_trunc)[:5]"
   ]
  },
  {
   "cell_type": "code",
   "execution_count": 292,
   "metadata": {},
   "outputs": [
    {
     "data": {
      "text/plain": [
       "(['Social processes',\n",
       "  'Culture & institutions',\n",
       "  'Political science',\n",
       "  'Social groups',\n",
       "  'History of South Asia'],\n",
       " ['Social groups',\n",
       "  'Culture & institutions',\n",
       "  'Social processes',\n",
       "  'Social interaction',\n",
       "  'Communities'],\n",
       " ['Social groups',\n",
       "  'Culture & institutions',\n",
       "  'Social processes',\n",
       "  'Political science',\n",
       "  'History of South Asia'])"
      ]
     },
     "execution_count": 292,
     "metadata": {},
     "output_type": "execute_result"
    }
   ],
   "source": [
    "q = \"ambedkar\"\n",
    "query_to_cat_names(q, bin_trunc)[:5], query_to_cat_names(q, freq_trunc)[:5], query_to_cat_names(q, norm_trunc)[:5]"
   ]
  },
  {
   "cell_type": "code",
   "execution_count": 293,
   "metadata": {},
   "outputs": [
    {
     "data": {
      "text/plain": [
       "(['Production',\n",
       "  'History of Southeast Asia',\n",
       "  'Labor economics',\n",
       "  'International commerce',\n",
       "  'General management'],\n",
       " ['International commerce',\n",
       "  'Production',\n",
       "  'Systems of governments & states',\n",
       "  'International migration & colonization',\n",
       "  'International law'],\n",
       " ['Production',\n",
       "  'World history',\n",
       "  'Factors affecting social behavior',\n",
       "  'Labor economics',\n",
       "  'Economics of land & energy'])"
      ]
     },
     "execution_count": 293,
     "metadata": {},
     "output_type": "execute_result"
    }
   ],
   "source": [
    "q = \"textile industry\"\n",
    "query_to_cat_names(q, bin_trunc)[:5], query_to_cat_names(q, freq_trunc)[:5], query_to_cat_names(q, norm_trunc)[:5]"
   ]
  },
  {
   "cell_type": "code",
   "execution_count": 294,
   "metadata": {},
   "outputs": [
    {
     "data": {
      "text/plain": [
       "(['Social groups',\n",
       "  'History & geographic treatment of art',\n",
       "  'Production',\n",
       "  'Mathematics',\n",
       "  'Analysis'],\n",
       " ['History & geographic treatment of art',\n",
       "  'Psychology',\n",
       "  'East Indo-European & Celtic languages',\n",
       "  'Social groups',\n",
       "  'Education'],\n",
       " ['East Indo-European & Celtic languages',\n",
       "  'Social groups',\n",
       "  'Pharmacology & therapeutics',\n",
       "  'Production',\n",
       "  'Algebra & number theory'])"
      ]
     },
     "execution_count": 294,
     "metadata": {},
     "output_type": "execute_result"
    }
   ],
   "source": [
    "q = \"computer graphics\"\n",
    "query_to_cat_names(q, bin_trunc)[:5], query_to_cat_names(q, freq_trunc)[:5], query_to_cat_names(q, norm_trunc)[:5]"
   ]
  },
  {
   "cell_type": "code",
   "execution_count": 295,
   "metadata": {},
   "outputs": [
    {
     "data": {
      "text/plain": [
       "(['Social interaction',\n",
       "  'Social processes',\n",
       "  'Production',\n",
       "  'Communities',\n",
       "  'Financial economics'],\n",
       " ['Social processes',\n",
       "  'Social interaction',\n",
       "  'Psychology',\n",
       "  'Diseases',\n",
       "  'Constitutional & administrative law'],\n",
       " ['Social interaction',\n",
       "  'Algebra & number theory',\n",
       "  'Social processes',\n",
       "  'English drama',\n",
       "  'Production'])"
      ]
     },
     "execution_count": 295,
     "metadata": {},
     "output_type": "execute_result"
    }
   ],
   "source": [
    "q = \"social media\"\n",
    "query_to_cat_names(q, bin_trunc)[:5], query_to_cat_names(q, freq_trunc)[:5], query_to_cat_names(q, norm_trunc)[:5]"
   ]
  },
  {
   "cell_type": "code",
   "execution_count": 296,
   "metadata": {},
   "outputs": [
    {
     "data": {
      "text/plain": [
       "(['Political science',\n",
       "  'Social groups',\n",
       "  'Production',\n",
       "  'English fiction',\n",
       "  'History of Europe'],\n",
       " ['English fiction',\n",
       "  'History of Europe',\n",
       "  'Psychology',\n",
       "  'Political science',\n",
       "  'Social groups'],\n",
       " ['Political science',\n",
       "  'Production',\n",
       "  'Social groups',\n",
       "  'English fiction',\n",
       "  'World history'])"
      ]
     },
     "execution_count": 296,
     "metadata": {},
     "output_type": "execute_result"
    }
   ],
   "source": [
    "q = \"first past the post\"\n",
    "query_to_cat_names(q, bin_trunc)[:5], query_to_cat_names(q, freq_trunc)[:5], query_to_cat_names(q, norm_trunc)[:5]"
   ]
  }
 ],
 "metadata": {
  "kernelspec": {
   "display_name": "numerical",
   "language": "python",
   "name": "python3"
  },
  "language_info": {
   "codemirror_mode": {
    "name": "ipython",
    "version": 3
   },
   "file_extension": ".py",
   "mimetype": "text/x-python",
   "name": "python",
   "nbconvert_exporter": "python",
   "pygments_lexer": "ipython3",
   "version": "3.10.14"
  }
 },
 "nbformat": 4,
 "nbformat_minor": 2
}
