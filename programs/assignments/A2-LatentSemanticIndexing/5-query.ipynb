{
 "cells": [
  {
   "cell_type": "code",
   "execution_count": 78,
   "metadata": {},
   "outputs": [
    {
     "name": "stdout",
     "output_type": "stream",
     "text": [
      "The autoreload extension is already loaded. To reload it, use:\n",
      "  %reload_ext autoreload\n"
     ]
    }
   ],
   "source": [
    "import pandas as pd\n",
    "import numpy as np\n",
    "import pickle\n",
    "import csv\n",
    "\n",
    "%load_ext autoreload\n",
    "%autoreload 2\n",
    "\n",
    "term_freqs = {}\n",
    "with open(\"term_freqs.csv\", \"r\") as f:\n",
    "\treader = csv.reader(f)\n",
    "\n",
    "\tfor term, freq in reader:\n",
    "\t\tterm_freqs[term] = float(freq)\n",
    "\n",
    "Ks = [8, 16, 32, 65, 130, 260, 520, 521]\n",
    "\n",
    "freq_truncs = {k: None for k in Ks}\n",
    "norm_truncs = {k: None for k in Ks}\n",
    "bin_truncs = {k: None for k in Ks}\n",
    "\n",
    "cat_to_ids = {}\n",
    "with open(\"cat_to_ids.pkl\", \"rb\") as f:\n",
    "\tcat_to_ids = pickle.load(f)\n",
    "\n",
    "sorted_cats = np.array(sorted(list(cat_to_ids.keys())))\n",
    "\n",
    "for k in Ks:\n",
    "\twith open(f\"freq_trunc_{k}.pkl\", \"rb\") as f:\n",
    "\t\tfreq_truncs[k] = pickle.load(f)\n",
    "\n",
    "\twith open(f\"norm_trunc_{k}.pkl\", \"rb\") as f:\n",
    "\t\tnorm_truncs[k] = pickle.load(f)\n",
    "\n",
    "\twith open(f\"bin_trunc_{k}.pkl\", \"rb\") as f:\n",
    "\t\tbin_truncs[k] = pickle.load(f)"
   ]
  },
  {
   "cell_type": "code",
   "execution_count": 79,
   "metadata": {},
   "outputs": [],
   "source": [
    "import json\n",
    "\n",
    "ddc_mapping = {}\n",
    "\n",
    "# thanks, claude\n",
    "with open(\"ddc.json\", \"r\") as f:\n",
    "\tddc_mapping = json.load(f)"
   ]
  },
  {
   "cell_type": "code",
   "execution_count": 133,
   "metadata": {},
   "outputs": [],
   "source": [
    "from helpers import embed, doc_query, get_doc_indices_by_distance\n",
    "\n",
    "def query_to_cats(query, svd, normalised=True):\n",
    "\te = embed(query, term_freqs, normalised)\n",
    "\tq = doc_query(e, svd)\n",
    "\treturn sorted_cats[get_doc_indices_by_distance(q, svd)]\t\n",
    "\n",
    "def query_to_cat_names(query, svd, normalised=True):\n",
    "\tcats = query_to_cats(query, svd, normalised)\n",
    "\n",
    "\ttopics = []\n",
    "\tfor cat in cats:\n",
    "\t\ttopics.append(ddc_mapping[cat])\n",
    "\n",
    "\treturn topics"
   ]
  },
  {
   "cell_type": "code",
   "execution_count": 140,
   "metadata": {},
   "outputs": [],
   "source": [
    "K = 32"
   ]
  },
  {
   "cell_type": "code",
   "execution_count": 141,
   "metadata": {},
   "outputs": [
    {
     "data": {
      "text/plain": [
       "(['Analysis',\n",
       "  'Algebra & number theory',\n",
       "  'Mathematics',\n",
       "  'Probabilities & applied mathematics',\n",
       "  'History of Southeast Asia'],\n",
       " ['Algebra & number theory',\n",
       "  'Social processes',\n",
       "  'Philosophy & theory',\n",
       "  'General management',\n",
       "  'Economics of land & energy'],\n",
       " ['Factors affecting social behavior',\n",
       "  'Social interaction',\n",
       "  'East Indo-European & Celtic languages',\n",
       "  'Labor economics',\n",
       "  'Algebra & number theory'])"
      ]
     },
     "execution_count": 141,
     "metadata": {},
     "output_type": "execute_result"
    }
   ],
   "source": [
    "q = \"linear algebra\"\n",
    "query_to_cat_names(q, bin_truncs[K])[:5], query_to_cat_names(q, freq_truncs[K])[:5], query_to_cat_names(q, norm_truncs[K])[:5]"
   ]
  },
  {
   "cell_type": "code",
   "execution_count": 142,
   "metadata": {},
   "outputs": [
    {
     "data": {
      "text/plain": [
       "(['Social processes',\n",
       "  'Culture & institutions',\n",
       "  'Political science',\n",
       "  'Social groups',\n",
       "  'History of South Asia'],\n",
       " ['Social groups',\n",
       "  'Culture & institutions',\n",
       "  'Social processes',\n",
       "  'Social interaction',\n",
       "  'Communities'],\n",
       " ['Social groups',\n",
       "  'Culture & institutions',\n",
       "  'Social processes',\n",
       "  'Political science',\n",
       "  'History of South Asia'])"
      ]
     },
     "execution_count": 142,
     "metadata": {},
     "output_type": "execute_result"
    }
   ],
   "source": [
    "q = \"ambedkar\"\n",
    "query_to_cat_names(q, bin_truncs[K])[:5], query_to_cat_names(q, freq_truncs[K])[:5], query_to_cat_names(q, norm_truncs[K])[:5]"
   ]
  },
  {
   "cell_type": "code",
   "execution_count": 143,
   "metadata": {},
   "outputs": [
    {
     "data": {
      "text/plain": [
       "(['Production',\n",
       "  'History of Southeast Asia',\n",
       "  'Labor economics',\n",
       "  'International commerce',\n",
       "  'General management'],\n",
       " ['International commerce',\n",
       "  'Production',\n",
       "  'Systems of governments & states',\n",
       "  'International migration & colonization',\n",
       "  'International law'],\n",
       " ['Production',\n",
       "  'World history',\n",
       "  'Factors affecting social behavior',\n",
       "  'Labor economics',\n",
       "  'Economics of land & energy'])"
      ]
     },
     "execution_count": 143,
     "metadata": {},
     "output_type": "execute_result"
    }
   ],
   "source": [
    "q = \"textile industry\"\n",
    "query_to_cat_names(q, bin_truncs[K])[:5], query_to_cat_names(q, freq_truncs[K])[:5], query_to_cat_names(q, norm_truncs[K])[:5]"
   ]
  },
  {
   "cell_type": "code",
   "execution_count": 144,
   "metadata": {},
   "outputs": [
    {
     "data": {
      "text/plain": [
       "(['Military science',\n",
       "  'Chinese & East Asian philosophy',\n",
       "  'Communities',\n",
       "  'Sociology & anthropology',\n",
       "  'Social sciences'],\n",
       " ['Military science',\n",
       "  'Financial economics',\n",
       "  'Probabilities & applied mathematics',\n",
       "  'Constitutional & administrative law',\n",
       "  'Mathematics'],\n",
       " ['Military science',\n",
       "  'Chinese & East Asian philosophy',\n",
       "  'Sociology & anthropology',\n",
       "  'Economics',\n",
       "  'History of Central Asia'])"
      ]
     },
     "execution_count": 144,
     "metadata": {},
     "output_type": "execute_result"
    }
   ],
   "source": [
    "q = \"machine learning\"\n",
    "query_to_cat_names(q, bin_truncs[K])[:5], query_to_cat_names(q, freq_truncs[K])[:5], query_to_cat_names(q, norm_truncs[K])[:5]"
   ]
  },
  {
   "cell_type": "code",
   "execution_count": 145,
   "metadata": {},
   "outputs": [
    {
     "data": {
      "text/plain": [
       "(['Social interaction',\n",
       "  'Social processes',\n",
       "  'Production',\n",
       "  'Communities',\n",
       "  'Financial economics'],\n",
       " ['Social processes',\n",
       "  'Social interaction',\n",
       "  'Psychology',\n",
       "  'Diseases',\n",
       "  'Constitutional & administrative law'],\n",
       " ['Social interaction',\n",
       "  'Algebra & number theory',\n",
       "  'Social processes',\n",
       "  'English drama',\n",
       "  'Production'])"
      ]
     },
     "execution_count": 145,
     "metadata": {},
     "output_type": "execute_result"
    }
   ],
   "source": [
    "q = \"social media\"\n",
    "query_to_cat_names(q, bin_truncs[K])[:5], query_to_cat_names(q, freq_truncs[K])[:5], query_to_cat_names(q, norm_truncs[K])[:5]"
   ]
  },
  {
   "cell_type": "code",
   "execution_count": 146,
   "metadata": {},
   "outputs": [
    {
     "data": {
      "text/plain": [
       "(['Political science',\n",
       "  'Social groups',\n",
       "  'Production',\n",
       "  'English fiction',\n",
       "  'History of Europe'],\n",
       " ['English fiction',\n",
       "  'History of Europe',\n",
       "  'Psychology',\n",
       "  'Political science',\n",
       "  'Social groups'],\n",
       " ['Political science',\n",
       "  'Production',\n",
       "  'Social groups',\n",
       "  'English fiction',\n",
       "  'World history'])"
      ]
     },
     "execution_count": 146,
     "metadata": {},
     "output_type": "execute_result"
    }
   ],
   "source": [
    "q = \"first past the post\"\n",
    "query_to_cat_names(q, bin_truncs[K])[:5], query_to_cat_names(q, freq_truncs[K])[:5], query_to_cat_names(q, norm_truncs[K])[:5]"
   ]
  },
  {
   "cell_type": "code",
   "execution_count": 147,
   "metadata": {},
   "outputs": [
    {
     "data": {
      "text/plain": [
       "(['Socialism & related systems',\n",
       "  'Sociology & anthropology',\n",
       "  'Culture & institutions',\n",
       "  'Political science',\n",
       "  'Modern Western philosophy in Germany & Austria'],\n",
       " ['Socialism & related systems',\n",
       "  'East & Southeast Asian literatures',\n",
       "  'Philosophy & theory',\n",
       "  'Social processes',\n",
       "  'Modern Western philosophy in Germany & Austria'],\n",
       " ['Socialism & related systems',\n",
       "  'Political science',\n",
       "  'Sociology & anthropology',\n",
       "  'Geography of Asia',\n",
       "  'International migration & colonization'])"
      ]
     },
     "execution_count": 147,
     "metadata": {},
     "output_type": "execute_result"
    }
   ],
   "source": [
    "q = \"marx\"\n",
    "query_to_cat_names(q, bin_truncs[K])[:5], query_to_cat_names(q, freq_truncs[K])[:5], query_to_cat_names(q, norm_truncs[K])[:5]"
   ]
  },
  {
   "cell_type": "code",
   "execution_count": 148,
   "metadata": {},
   "outputs": [],
   "source": [
    "K = 130"
   ]
  },
  {
   "cell_type": "code",
   "execution_count": 149,
   "metadata": {},
   "outputs": [
    {
     "data": {
      "text/plain": [
       "(['Algebra & number theory',\n",
       "  'Analysis',\n",
       "  'Probabilities & applied mathematics',\n",
       "  'Other Germanic literatures',\n",
       "  'English essays'],\n",
       " ['Algebra & number theory',\n",
       "  'Differential & developmental psychology',\n",
       "  'Modern Western philosophy in British Isles',\n",
       "  'Civil & political rights',\n",
       "  'Applied physics'],\n",
       " ['Algebra & number theory',\n",
       "  'Probabilities & applied mathematics',\n",
       "  'Analysis',\n",
       "  'Indoor games & amusements',\n",
       "  'Topology'])"
      ]
     },
     "execution_count": 149,
     "metadata": {},
     "output_type": "execute_result"
    }
   ],
   "source": [
    "q = \"linear algebra\"\n",
    "query_to_cat_names(q, bin_truncs[K])[:5], query_to_cat_names(q, freq_truncs[K])[:5], query_to_cat_names(q, norm_truncs[K])[:5]"
   ]
  },
  {
   "cell_type": "code",
   "execution_count": 150,
   "metadata": {},
   "outputs": [
    {
     "data": {
      "text/plain": [
       "(['Civil & political rights',\n",
       "  'Social processes',\n",
       "  'Culture & institutions',\n",
       "  'Political science',\n",
       "  'Social groups'],\n",
       " ['Civil & political rights',\n",
       "  'Social processes',\n",
       "  'Culture & institutions',\n",
       "  'Social groups',\n",
       "  'Human physiology'],\n",
       " ['Civil & political rights',\n",
       "  'Social groups',\n",
       "  'Culture & institutions',\n",
       "  'Social processes',\n",
       "  'Political science'])"
      ]
     },
     "execution_count": 150,
     "metadata": {},
     "output_type": "execute_result"
    }
   ],
   "source": [
    "q = \"ambedkar\"\n",
    "query_to_cat_names(q, bin_truncs[K])[:5], query_to_cat_names(q, freq_truncs[K])[:5], query_to_cat_names(q, norm_truncs[K])[:5]"
   ]
  },
  {
   "cell_type": "code",
   "execution_count": 151,
   "metadata": {},
   "outputs": [
    {
     "data": {
      "text/plain": [
       "(['International commerce',\n",
       "  'Production',\n",
       "  'Education',\n",
       "  'Public finance',\n",
       "  'International law'],\n",
       " ['Public finance',\n",
       "  'International commerce',\n",
       "  'Education',\n",
       "  'Philosophy & theory of history',\n",
       "  'Production'],\n",
       " ['Textile arts',\n",
       "  'International commerce',\n",
       "  'Production',\n",
       "  'Philosophy & theory of fine & decorative arts',\n",
       "  'International law'])"
      ]
     },
     "execution_count": 151,
     "metadata": {},
     "output_type": "execute_result"
    }
   ],
   "source": [
    "q = \"textile industry\"\n",
    "query_to_cat_names(q, bin_truncs[K])[:5], query_to_cat_names(q, freq_truncs[K])[:5], query_to_cat_names(q, norm_truncs[K])[:5]"
   ]
  },
  {
   "cell_type": "code",
   "execution_count": 152,
   "metadata": {},
   "outputs": [
    {
     "data": {
      "text/plain": [
       "(['Military science',\n",
       "  'Probabilities & applied mathematics',\n",
       "  'Schools & their activities',\n",
       "  'Philosophy & theory of science',\n",
       "  'Philosophy & theory of language'],\n",
       " ['Schools & their activities',\n",
       "  'Differential & developmental psychology',\n",
       "  'Philosophy & theory of language',\n",
       "  'Data processing & computer science',\n",
       "  'History of the ancient world'],\n",
       " ['Military science',\n",
       "  'Schools & their activities',\n",
       "  'Philosophy & theory of language',\n",
       "  'Probabilities & applied mathematics',\n",
       "  'Mathematics'])"
      ]
     },
     "execution_count": 152,
     "metadata": {},
     "output_type": "execute_result"
    }
   ],
   "source": [
    "q = \"machine learning\"\n",
    "query_to_cat_names(q, bin_truncs[K])[:5], query_to_cat_names(q, freq_truncs[K])[:5], query_to_cat_names(q, norm_truncs[K])[:5]"
   ]
  },
  {
   "cell_type": "code",
   "execution_count": 153,
   "metadata": {},
   "outputs": [
    {
     "data": {
      "text/plain": [
       "(['News media, journalism & publishing',\n",
       "  'Constitutional & administrative law',\n",
       "  'Social interaction',\n",
       "  'Social processes',\n",
       "  'Occupational & professional ethics'],\n",
       " ['Social interaction',\n",
       "  'News media, journalism & publishing',\n",
       "  'Advertising & public relations',\n",
       "  'History of Germany',\n",
       "  'Constitutional & administrative law'],\n",
       " ['Social interaction',\n",
       "  'News media, journalism & publishing',\n",
       "  'Constitutional & administrative law',\n",
       "  'Social processes',\n",
       "  'Production'])"
      ]
     },
     "execution_count": 153,
     "metadata": {},
     "output_type": "execute_result"
    }
   ],
   "source": [
    "q = \"social media\"\n",
    "query_to_cat_names(q, bin_truncs[K])[:5], query_to_cat_names(q, freq_truncs[K])[:5], query_to_cat_names(q, norm_truncs[K])[:5]"
   ]
  },
  {
   "cell_type": "code",
   "execution_count": 154,
   "metadata": {},
   "outputs": [
    {
     "data": {
      "text/plain": [
       "(['Mental processes & intelligence',\n",
       "  'Education',\n",
       "  'International migration & colonization',\n",
       "  'The political process',\n",
       "  'Applied physics'],\n",
       " ['Mental processes & intelligence',\n",
       "  'International migration & colonization',\n",
       "  'The political process',\n",
       "  'Applied physics',\n",
       "  'Education'],\n",
       " ['Mental processes & intelligence',\n",
       "  'International migration & colonization',\n",
       "  'The political process',\n",
       "  'Political science',\n",
       "  'History of France'])"
      ]
     },
     "execution_count": 154,
     "metadata": {},
     "output_type": "execute_result"
    }
   ],
   "source": [
    "q = \"first past the post\"\n",
    "query_to_cat_names(q, bin_truncs[K])[:5], query_to_cat_names(q, freq_truncs[K])[:5], query_to_cat_names(q, norm_truncs[K])[:5]"
   ]
  },
  {
   "cell_type": "code",
   "execution_count": 155,
   "metadata": {},
   "outputs": [
    {
     "data": {
      "text/plain": [
       "(['Historical & geographic treatments of sociology',\n",
       "  'Philosophy & theory',\n",
       "  'Modern Western philosophy in Germany & Austria',\n",
       "  'Socialism & related systems',\n",
       "  'German fiction'],\n",
       " ['Socialism & related systems',\n",
       "  'Historical & geographic treatments of sociology',\n",
       "  'Modern Western philosophy in Germany & Austria',\n",
       "  'Philosophy & theory',\n",
       "  'Altaic, Ural-Altaic, Dravidian literatures'],\n",
       " ['Socialism & related systems',\n",
       "  'Modern Western philosophy in Germany & Austria',\n",
       "  'Political science',\n",
       "  'Sociology & anthropology',\n",
       "  'Culture & institutions'])"
      ]
     },
     "execution_count": 155,
     "metadata": {},
     "output_type": "execute_result"
    }
   ],
   "source": [
    "q = \"marx\"\n",
    "query_to_cat_names(q, bin_truncs[K])[:5], query_to_cat_names(q, freq_truncs[K])[:5], query_to_cat_names(q, norm_truncs[K])[:5]"
   ]
  }
 ],
 "metadata": {
  "kernelspec": {
   "display_name": "numerical",
   "language": "python",
   "name": "python3"
  },
  "language_info": {
   "codemirror_mode": {
    "name": "ipython",
    "version": 3
   },
   "file_extension": ".py",
   "mimetype": "text/x-python",
   "name": "python",
   "nbconvert_exporter": "python",
   "pygments_lexer": "ipython3",
   "version": "3.10.14"
  }
 },
 "nbformat": 4,
 "nbformat_minor": 2
}
