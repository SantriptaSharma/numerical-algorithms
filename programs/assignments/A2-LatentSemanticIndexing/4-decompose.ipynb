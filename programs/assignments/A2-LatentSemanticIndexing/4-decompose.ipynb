{
 "cells": [
  {
   "cell_type": "code",
   "execution_count": 2,
   "metadata": {},
   "outputs": [],
   "source": [
    "import pandas as pd\n",
    "import numpy as np\n",
    "import pickle\n",
    "\n",
    "freq_termdoc = None\n",
    "with open(\"frequency_termdoc.pkl\", \"rb\") as f:\n",
    "\tfreq_termdoc = pickle.load(f)\n",
    "\n",
    "bin_termdoc = None\n",
    "with open(\"binary_termdoc.pkl\", \"rb\") as f:\n",
    "\tbin_termdoc = pickle.load(f)"
   ]
  },
  {
   "cell_type": "code",
   "execution_count": 3,
   "metadata": {},
   "outputs": [],
   "source": [
    "freq_svd = np.linalg.svd(freq_termdoc)\n",
    "bin_svd = np.linalg.svd(bin_termdoc)"
   ]
  },
  {
   "cell_type": "code",
   "execution_count": 6,
   "metadata": {},
   "outputs": [],
   "source": [
    "with open(\"freq_termdoc_svd.pkl\", \"wb\") as f:\n",
    "\tpickle.dump(freq_svd, f)\n",
    "\n",
    "with open(\"bin_termdoc_svd.pkl\", \"wb\") as f:\n",
    "\tpickle.dump(bin_svd, f)"
   ]
  },
  {
   "cell_type": "code",
   "execution_count": 4,
   "metadata": {},
   "outputs": [
    {
     "data": {
      "text/plain": [
       "(10115, 346)"
      ]
     },
     "execution_count": 4,
     "metadata": {},
     "output_type": "execute_result"
    }
   ],
   "source": [
    "M, N = freq_termdoc.shape\n",
    "M, N"
   ]
  },
  {
   "cell_type": "markdown",
   "metadata": {},
   "source": [
    "### Frequency Based TermDoc\n",
    "\n",
    "Values are pretty consistently similar in magnitude until the last two guys, so we should maybe have $K = N - 2$, but that would likely not give us a good shrink in rank (i.e. no compression of \"semantic meaning\" to deal with polysemy and synonymy), so I pick an arbitrary shrink, $K = N // 2$, and take the best K rank approximation to A by truncating the SVD to k terms"
   ]
  },
  {
   "cell_type": "code",
   "execution_count": 18,
   "metadata": {},
   "outputs": [],
   "source": [
    "K = N // 2"
   ]
  },
  {
   "cell_type": "code",
   "execution_count": 19,
   "metadata": {},
   "outputs": [],
   "source": [
    "Uk = np.copy(freq_svd.U)\n",
    "Uk[:, K:] = 0\n",
    "\n",
    "Sk = np.copy(freq_svd.S)\n",
    "Sk[K:] = 0\n",
    "\n",
    "Vhk = np.copy(freq_svd.Vh)\n",
    "Vhk[K:, :] = 0"
   ]
  },
  {
   "cell_type": "code",
   "execution_count": 20,
   "metadata": {},
   "outputs": [],
   "source": [
    "with open(\"freq_lowrank.pkl\", \"wb\") as f:\n",
    "\tpickle.dump({\"Uk\": Uk, \"Sk\": Sk, \"Vhk\": Vhk}, f)"
   ]
  },
  {
   "cell_type": "markdown",
   "metadata": {},
   "source": [
    "### Binary Termdoc\n",
    "Same deal"
   ]
  },
  {
   "cell_type": "code",
   "execution_count": 21,
   "metadata": {},
   "outputs": [],
   "source": [
    "K = N // 2"
   ]
  },
  {
   "cell_type": "code",
   "execution_count": 22,
   "metadata": {},
   "outputs": [],
   "source": [
    "Uk = np.copy(bin_svd.U)\n",
    "Uk[:, K:] = 0\n",
    "\n",
    "Sk = np.copy(bin_svd.S)\n",
    "Sk[K:] = 0\n",
    "\n",
    "Vhk = np.copy(bin_svd.Vh)\n",
    "Vhk[K:, :] = 0"
   ]
  },
  {
   "cell_type": "code",
   "execution_count": 23,
   "metadata": {},
   "outputs": [],
   "source": [
    "with open(\"bin_lowrank.pkl\", \"wb\") as f:\n",
    "\tpickle.dump({\"Uk\": Uk, \"Sk\": Sk, \"Vhk\": Vhk}, f)"
   ]
  }
 ],
 "metadata": {
  "kernelspec": {
   "display_name": "numerical",
   "language": "python",
   "name": "python3"
  },
  "language_info": {
   "codemirror_mode": {
    "name": "ipython",
    "version": 3
   },
   "file_extension": ".py",
   "mimetype": "text/x-python",
   "name": "python",
   "nbconvert_exporter": "python",
   "pygments_lexer": "ipython3",
   "version": "3.10.14"
  }
 },
 "nbformat": 4,
 "nbformat_minor": 2
}
